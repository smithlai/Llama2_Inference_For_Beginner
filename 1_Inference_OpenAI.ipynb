{
 "cells": [
  {
   "cell_type": "markdown",
   "id": "a734497c-6379-4d65-a468-e3921f04fe13",
   "metadata": {},
   "source": [
    "# Inference ChatGPT\n",
    "https://python.langchain.com/docs/get_started/quickstart"
   ]
  },
  {
   "cell_type": "code",
   "execution_count": 1,
   "id": "d6fd1295-24f5-4394-93cf-3ade8f9d53f2",
   "metadata": {},
   "outputs": [],
   "source": [
    "from langchain.llms import OpenAI\n",
    "from langchain.chat_models import ChatOpenAI\n",
    "\n",
    "from dotenv import load_dotenv,dotenv_values\n",
    "import os\n",
    "\n",
    "# load_dotenv()\n",
    "# openai_api_key=os.getenv('OPENAI_API_KEY', 'YourAPIKey')\n",
    "# OR\n",
    "dotenv_cfg = dotenv_values(\".env\")\n",
    "openai_api_key=dotenv_cfg.get('OPENAI_API_KEY')\n",
    "\n",
    "llm = OpenAI(openai_api_key=openai_api_key)\n",
    "chat_model = ChatOpenAI(openai_api_key=openai_api_key)"
   ]
  },
  {
   "cell_type": "code",
   "execution_count": 2,
   "id": "bb8bbdf3-40b6-4ab9-b21e-dae545f462c0",
   "metadata": {},
   "outputs": [
    {
     "name": "stdout",
     "output_type": "stream",
     "text": [
      "'-----LLM predict-------'\n",
      "'\\n\\nj\\n\\nHello, how are you doing?'\n",
      "'-----CHAT LLM predict-------'\n",
      "'Hello! How can I help you today?'\n",
      "'-----LLM predict_message-------'\n",
      "AIMessage(content='\\n\\nRobot: Hi there! How can I help you?')\n",
      "'-----CHAT LLM predict_message-------'\n",
      "\"AIMessage(content='Hello! How can I help you today?')\"\n"
     ]
    }
   ],
   "source": [
    "from mylib.Utils import myprint\n",
    "text = \"hi\"\n",
    "myprint(\"-----LLM predict-------\")\n",
    "myprint(llm.predict(text))\n",
    "myprint(\"-----CHAT LLM predict-------\")\n",
    "myprint(chat_model.predict(text))\n",
    "\n",
    "from langchain.schema import HumanMessage\n",
    "messages = [HumanMessage(content=text)]\n",
    "myprint(\"-----LLM predict_message-------\")\n",
    "myprint(llm.predict_messages(messages))\n",
    "myprint(\"-----CHAT LLM predict_message-------\")\n",
    "myprint(repr(chat_model.predict_messages(messages)))\n"
   ]
  },
  {
   "cell_type": "code",
   "execution_count": null,
   "id": "3adb2c0c-a7ed-475b-966f-16df1319f1df",
   "metadata": {},
   "outputs": [],
   "source": []
  }
 ],
 "metadata": {
  "kernelspec": {
   "display_name": "Python 3 (ipykernel)",
   "language": "python",
   "name": "python3"
  },
  "language_info": {
   "codemirror_mode": {
    "name": "ipython",
    "version": 3
   },
   "file_extension": ".py",
   "mimetype": "text/x-python",
   "name": "python",
   "nbconvert_exporter": "python",
   "pygments_lexer": "ipython3",
   "version": "3.10.12"
  }
 },
 "nbformat": 4,
 "nbformat_minor": 5
}

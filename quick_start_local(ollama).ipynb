{
 "cells": [
  {
   "cell_type": "markdown",
   "id": "3075bc28-b9a2-495f-ad1a-168c1dd227d4",
   "metadata": {},
   "source": [
    "# Ollama Example in langchain\n",
    "This is a LLM example with a local model.\n",
    "It's free and fast (I can easily run it on my GTX1660 Super)\n",
    "Code  \n",
    "https://python.langchain.com/docs/get_started/quickstart\n",
    "\n",
    "Ollama Server  \n",
    "https://ollama.ai/download/linux  \n",
    "Ollama Model  \n",
    "https://ollama.ai/library  "
   ]
  },
  {
   "cell_type": "code",
   "execution_count": 1,
   "id": "780a4768-23c8-4e1c-a2a4-0ddc217c4869",
   "metadata": {
    "scrolled": true
   },
   "outputs": [],
   "source": [
    "model_id=\"llama2-uncensored\"\n",
    "# !ollama pull $model_id\n",
    "# this file store in ~/.ollama/models"
   ]
  },
  {
   "cell_type": "code",
   "execution_count": 2,
   "id": "b5fa2840-a185-459c-9dc9-dd43283bacf7",
   "metadata": {},
   "outputs": [],
   "source": [
    "from langchain_community.llms import Ollama\n",
    "llm = Ollama(model=model_id)"
   ]
  },
  {
   "cell_type": "markdown",
   "id": "809c2256-08d7-40b2-b77e-38ea5e89ff5d",
   "metadata": {},
   "source": [
    "## Prompt (with model)"
   ]
  },
  {
   "cell_type": "code",
   "execution_count": 3,
   "id": "8a85460a-d845-4f9c-a664-d97c4b91f58f",
   "metadata": {},
   "outputs": [
    {
     "name": "stdout",
     "output_type": "stream",
     "text": [
      "Langsmith provides a suite of tools and services for software testing, including automated testing frameworks, test data generation, and performance benchmarking. It also offers integration with popular DevOps platforms like Jenkins and Azure DevOps to streamline the testing process."
     ]
    }
   ],
   "source": [
    "# llm.invoke(\"how can langsmith help with testing?\") <-- without streaming\n",
    "\n",
    "# streaming\n",
    "async for chunk in llm.astream(\"how can langsmith help with testing?\"):\n",
    "    print(chunk, end=\"\", flush=True)"
   ]
  },
  {
   "cell_type": "markdown",
   "id": "49156cd3-6d95-4c15-a49f-e838653c9314",
   "metadata": {},
   "source": [
    "## Prompt (with LCEL)\n",
    "\n",
    "Note that we pass an \"dict\" into invoke/stream/astream, not str"
   ]
  },
  {
   "cell_type": "code",
   "execution_count": 4,
   "id": "cc604ae3-b331-4d8a-81de-29e77eac0c49",
   "metadata": {},
   "outputs": [],
   "source": [
    "from langchain_core.prompts import ChatPromptTemplate\n",
    "prompt = ChatPromptTemplate.from_messages([\n",
    "    (\"system\", \"You are world class technical documentation writer.\"),\n",
    "    (\"user\", \"{input}\")\n",
    "])"
   ]
  },
  {
   "cell_type": "code",
   "execution_count": 5,
   "id": "bf626270-ce46-44f3-9ae3-c763bc1ace04",
   "metadata": {},
   "outputs": [
    {
     "name": "stdout",
     "output_type": "stream",
     "text": [
      "first=ChatPromptTemplate(input_variables=['input'], messages=[SystemMessagePromptTemplate(prompt=PromptTemplate(input_variables=[], template='You are world class technical documentation writer.')), HumanMessagePromptTemplate(prompt=PromptTemplate(input_variables=['input'], template='{input}'))]) last=Ollama(model='llama2-uncensored')\n"
     ]
    }
   ],
   "source": [
    "chain = prompt | llm \n",
    "print(chain)"
   ]
  },
  {
   "cell_type": "code",
   "execution_count": 6,
   "id": "7201a29a-5777-400a-88b7-30afd2fb3a12",
   "metadata": {},
   "outputs": [
    {
     "name": "stdout",
     "output_type": "stream",
     "text": [
      "LangSmith can assist in automated testing of technical documents by providing a comprehensive suite of tools that enable the creation and execution of tests for various document types. These tools include the ability to create and execute test cases, generate reports on test results, and identify areas of improvement or bugs. Additionally, LangSmith offers support for integration with other testing frameworks and platforms, making it easier to integrate automated testing into larger software development workflows."
     ]
    }
   ],
   "source": [
    "# chain.invoke({\"input\": \"how can langsmith help with testing?\"}) <-- without streaming\n",
    "async for chunk in chain.astream({\"input\": \"how can langsmith help with testing?\"}):\n",
    "    print(chunk, end=\"\", flush=True)"
   ]
  },
  {
   "cell_type": "code",
   "execution_count": 7,
   "id": "704bce43-d364-4c02-afab-7f12a5416e35",
   "metadata": {},
   "outputs": [
    {
     "name": "stdout",
     "output_type": "stream",
     "text": [
      "first=ChatPromptTemplate(input_variables=['input'], messages=[SystemMessagePromptTemplate(prompt=PromptTemplate(input_variables=[], template='You are world class technical documentation writer.')), HumanMessagePromptTemplate(prompt=PromptTemplate(input_variables=['input'], template='{input}'))]) middle=[Ollama(model='llama2-uncensored')] last=StrOutputParser()\n"
     ]
    }
   ],
   "source": [
    "from langchain_core.output_parsers import StrOutputParser\n",
    "chain = prompt | llm | StrOutputParser()\n",
    "print(chain)"
   ]
  },
  {
   "cell_type": "code",
   "execution_count": 8,
   "id": "bf98a5e2-a56f-4a49-ad73-c4f0f2e121c6",
   "metadata": {},
   "outputs": [
    {
     "name": "stdout",
     "output_type": "stream",
     "text": [
      "Langsmith's testing framework, called LST, is an open-source tool that automates the testing process for software applications. This means it can be used to test your technical documentation and ensure accuracy and consistency in formatting, grammar, spelling, and other details."
     ]
    }
   ],
   "source": [
    "# chain.invoke({\"input\": \"how can langsmith help with testing?\"}) <-- without streaming\n",
    "async for chunk in chain.astream({\"input\": \"how can langsmith help with testing?\"}):\n",
    "    print(chunk, end=\"\", flush=True)"
   ]
  },
  {
   "cell_type": "code",
   "execution_count": 9,
   "id": "6475536d-e238-4f5a-acc2-70c59b530a3f",
   "metadata": {},
   "outputs": [
    {
     "name": "stdout",
     "output_type": "stream",
     "text": [
      "Langsmith is a tool for automating the creation of documentation from code, which includes testing the generated documents. It uses AI to analyze the source code and generate detailed technical documentation that can be used by developers or end users alike."
     ]
    }
   ],
   "source": [
    "# replace astream with stream\n",
    "for chunk in chain.stream({\"input\": \"how can langsmith help with testing?\"}):\n",
    "    print(chunk, end=\"\", flush=True)"
   ]
  }
 ],
 "metadata": {
  "kernelspec": {
   "display_name": "Python 3 (ipykernel)",
   "language": "python",
   "name": "python3"
  },
  "language_info": {
   "codemirror_mode": {
    "name": "ipython",
    "version": 3
   },
   "file_extension": ".py",
   "mimetype": "text/x-python",
   "name": "python",
   "nbconvert_exporter": "python",
   "pygments_lexer": "ipython3",
   "version": "3.10.12"
  }
 },
 "nbformat": 4,
 "nbformat_minor": 5
}

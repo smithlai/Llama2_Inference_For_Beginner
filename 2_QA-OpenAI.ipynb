{
 "cells": [
  {
   "cell_type": "markdown",
   "id": "28cf1913-705d-498b-baf3-314b8acec763",
   "metadata": {},
   "source": [
    "# QA using a Retriever\n",
    "https://python.langchain.com/docs/use_cases/question_answering/how_to/vector_db_qa"
   ]
  },
  {
   "cell_type": "code",
   "execution_count": 2,
   "id": "b875b1dd-6145-4dad-bf2d-3c6f3381d7c3",
   "metadata": {},
   "outputs": [
    {
     "name": "stdout",
     "output_type": "stream",
     "text": [
      "Collecting tiktoken\n",
      "  Obtaining dependency information for tiktoken from https://files.pythonhosted.org/packages/f4/2e/0adf6e264b996e263b1c57cad6560ffd5492a69beb9fd779ed0463d486bc/tiktoken-0.5.1-cp310-cp310-manylinux_2_17_x86_64.manylinux2014_x86_64.whl.metadata\n",
      "  Downloading tiktoken-0.5.1-cp310-cp310-manylinux_2_17_x86_64.manylinux2014_x86_64.whl.metadata (6.6 kB)\n",
      "Requirement already satisfied: regex>=2022.1.18 in /app/venv/lib/python3.10/site-packages (from tiktoken) (2023.8.8)\n",
      "Requirement already satisfied: requests>=2.26.0 in /app/venv/lib/python3.10/site-packages (from tiktoken) (2.31.0)\n",
      "Requirement already satisfied: charset-normalizer<4,>=2 in /app/venv/lib/python3.10/site-packages (from requests>=2.26.0->tiktoken) (3.2.0)\n",
      "Requirement already satisfied: idna<4,>=2.5 in /app/venv/lib/python3.10/site-packages (from requests>=2.26.0->tiktoken) (3.4)\n",
      "Requirement already satisfied: urllib3<3,>=1.21.1 in /app/venv/lib/python3.10/site-packages (from requests>=2.26.0->tiktoken) (2.0.4)\n",
      "Requirement already satisfied: certifi>=2017.4.17 in /app/venv/lib/python3.10/site-packages (from requests>=2.26.0->tiktoken) (2023.7.22)\n",
      "Downloading tiktoken-0.5.1-cp310-cp310-manylinux_2_17_x86_64.manylinux2014_x86_64.whl (2.0 MB)\n",
      "\u001b[2K   \u001b[90m━━━━━━━━━━━━━━━━━━━━━━━━━━━━━━━━━━━━━━━━\u001b[0m \u001b[32m2.0/2.0 MB\u001b[0m \u001b[31m1.4 MB/s\u001b[0m eta \u001b[36m0:00:00\u001b[0m00:01\u001b[0m00:01\u001b[0m0m\n",
      "\u001b[?25hInstalling collected packages: tiktoken\n",
      "Successfully installed tiktoken-0.5.1\n"
     ]
    }
   ],
   "source": [
    "###### chromadb is not compatible with latest pydantic and fastapi\n",
    "# pydantic.errors.PydanticImportError: `BaseSettings` has been moved to the `pydantic-settings` package. See https://docs.pydantic.dev/2.3/migration/#basesettings-has-moved-to-pydantic-settings for more details.\n",
    "# !pip install chromadb\n",
    "# !pip install fastapi==0.99.1\n",
    "# !pip install pydantic==1.10.0\n",
    "# NOTE: you have to restart jupyter kernel to reload lib\n",
    "\n",
    "!pip install tiktoken  # for OpenAIEmbeddings."
   ]
  },
  {
   "cell_type": "markdown",
   "id": "fe594bd9-b409-4751-a7c3-9714163e124e",
   "metadata": {},
   "source": [
    "## Example 1: Basic QA with OpenAI\n",
    "https://python.langchain.com/docs/use_cases/question_answering/\n",
    "\n",
    "1. Load: Specify a DocumentLoader to load in your unstructured data as Documents. A Document is a piece of text (the page_content) and associated metadata.\n",
    "   There are many [Loaders](https://integrations.langchain.com/)\n",
    "   `documents = TextLoader(....).load()`  \n",
    "2. Split: Split the Document into chunks for embedding and vector storage.  \n",
    "   `texts = CharacterTextSplitter(...).split_documents(documents)`\n",
    "3. Store: To be able to look up our document splits, we first need to store them where we can later look them up.  \n",
    "   The most common way to do this is to embed the contents of each document then store the embedding and document in a vector store,  \n",
    "   with the embedding being used to index the document.  \n",
    "   `vectorstore = FAISS.from_documents(texts, embeddings)`\n",
    "\n",
    "You can find the resources [here](https://integrations.langchain.com/)\n",
    "loader: such as TextLoader\n",
    "embeddings: such as OpenAIEmbeddings, HuggingFaceEmbeddings\n",
    "vectorstore: such as FAISS and Chromadb\r\n",
    "\r\n"
   ]
  },
  {
   "cell_type": "code",
   "execution_count": 7,
   "id": "18fe2bf0-6f36-447a-a922-6eaff52b556f",
   "metadata": {},
   "outputs": [],
   "source": [
    "from langchain.chains import RetrievalQA\n",
    "from langchain.document_loaders import TextLoader\n",
    "from langchain.embeddings.openai import OpenAIEmbeddings\n",
    "from langchain.llms import OpenAI\n",
    "from langchain.text_splitter import CharacterTextSplitter\n",
    "from langchain.vectorstores import Chroma, FAISS\n",
    "\n",
    "loader = TextLoader(os.path.abspath(\"./mydata/state_of_the_union.txt\"), encoding=\"utf-8\")\n",
    "documents = loader.load()\n",
    "text_splitter = CharacterTextSplitter(chunk_size=1000, chunk_overlap=0)\n",
    "texts = text_splitter.split_documents(documents)\n",
    "openai_api_key=\"\"\n",
    "with open('./mydata/openai_api_key.txt', 'r') as file:\n",
    "    openai_api_key = file.read().strip()\n",
    "\n",
    "embeddings = OpenAIEmbeddings(openai_api_key=openai_api_key)\n",
    "# docsearch = Chroma.from_documents(texts, embeddings) # Chromadb is bugged\n",
    "vectorstore = FAISS.from_documents(texts, embeddings)\n",
    "\n",
    "qa = RetrievalQA.from_chain_type(llm=OpenAI(openai_api_key=openai_api_key), chain_type=\"stuff\", retriever=vectorstore.as_retriever())"
   ]
  },
  {
   "cell_type": "code",
   "execution_count": 8,
   "id": "1986c6cd-3f93-46b7-9a6d-5995dcfbf022",
   "metadata": {},
   "outputs": [
    {
     "data": {
      "text/plain": [
       "\" The President said that Ketanji Brown Jackson is one of the nation's top legal minds, a former top litigator in private practice, a former federal public defender, from a family of public school educators and police officers, a consensus builder, and has received a broad range of support from the Fraternal Order of Police to former judges appointed by Democrats and Republicans.\""
      ]
     },
     "execution_count": 8,
     "metadata": {},
     "output_type": "execute_result"
    }
   ],
   "source": [
    "query = \"What did the president say about Ketanji Brown Jackson\"\n",
    "qa.run(query)"
   ]
  },
  {
   "cell_type": "code",
   "execution_count": null,
   "id": "c2ceed2a-7c5e-4e9e-a0bc-66ce367074a6",
   "metadata": {},
   "outputs": [],
   "source": []
  }
 ],
 "metadata": {
  "kernelspec": {
   "display_name": "Python 3 (ipykernel)",
   "language": "python",
   "name": "python3"
  },
  "language_info": {
   "codemirror_mode": {
    "name": "ipython",
    "version": 3
   },
   "file_extension": ".py",
   "mimetype": "text/x-python",
   "name": "python",
   "nbconvert_exporter": "python",
   "pygments_lexer": "ipython3",
   "version": "3.10.12"
  }
 },
 "nbformat": 4,
 "nbformat_minor": 5
}

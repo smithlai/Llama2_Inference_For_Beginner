{
 "cells": [
  {
   "cell_type": "code",
   "execution_count": null,
   "id": "9b8afc9d-372b-4c69-b9cf-faadde2c059a",
   "metadata": {},
   "outputs": [],
   "source": [
    "Ben is the Boss of ST team.\n",
    "Alger is test leader of ST teams.\n",
    "Roson is the project manager of ST team.\n"
   ]
  }
 ],
 "metadata": {
  "kernelspec": {
   "display_name": "Python 3 (ipykernel)",
   "language": "python",
   "name": "python3"
  },
  "language_info": {
   "codemirror_mode": {
    "name": "ipython",
    "version": 3
   },
   "file_extension": ".py",
   "mimetype": "text/x-python",
   "name": "python",
   "nbconvert_exporter": "python",
   "pygments_lexer": "ipython3",
   "version": "3.10.12"
  }
 },
 "nbformat": 4,
 "nbformat_minor": 5
}
